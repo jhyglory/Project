{
  "nbformat": 4,
  "nbformat_minor": 0,
  "metadata": {
    "colab": {
      "name": "section2 project.ipynb",
      "private_outputs": true,
      "provenance": [],
      "include_colab_link": true
    },
    "kernelspec": {
      "name": "python3",
      "display_name": "Python 3"
    }
  },
  "cells": [
    {
      "cell_type": "markdown",
      "metadata": {
        "id": "view-in-github",
        "colab_type": "text"
      },
      "source": [
        "<a href=\"https://colab.research.google.com/github/jhyglory/Section1/blob/main/section2_project.ipynb\" target=\"_parent\"><img src=\"https://colab.research.google.com/assets/colab-badge.svg\" alt=\"Open In Colab\"/></a>"
      ]
    },
    {
      "cell_type": "markdown",
      "metadata": {
        "id": "Hmp3ulJe3eo5"
      },
      "source": [
        "**1) 데이터 선정 이유 및 문제 정의**\n",
        "\n",
        "\n",
        "\n",
        "\n",
        "지난 1년간 우리 회사의 보험계약자가 우리 회사가 제공하는 자동차 보험에 관심이 있을지를 예측 해보고자 합니다.\n",
        "고객이 자동차 보험에 관심을 가질지 여부를 예측하는 것은 그에 따라 고객에게 비즈니스 모델과 수익을 최적화하기 위한 커뮤니케이션 전략을 계획할 수 있기 때문에 우리 회사에 매우 도움이 될 것입니다.\n",
        "\n",
        "가입의사가 있는지 없는지 예측하는 것이므로 분류문제(1,0)로 풀겠습니다."
      ]
    },
    {
      "cell_type": "code",
      "metadata": {
        "id": "4qpyW-FbUnLQ"
      },
      "source": [
        "!pip install pdpbox"
      ],
      "execution_count": null,
      "outputs": []
    },
    {
      "cell_type": "code",
      "metadata": {
        "id": "DGcS9FA8WlS_"
      },
      "source": [
        "!pip install shap"
      ],
      "execution_count": null,
      "outputs": []
    },
    {
      "cell_type": "code",
      "metadata": {
        "id": "3FYFwq-GNCSa"
      },
      "source": [
        "from google.colab import drive\n",
        "drive.mount('/gdrive')"
      ],
      "execution_count": null,
      "outputs": []
    },
    {
      "cell_type": "code",
      "metadata": {
        "id": "7TfHHx0m3dy-"
      },
      "source": [
        "# target: Respones"
      ],
      "execution_count": null,
      "outputs": []
    },
    {
      "cell_type": "code",
      "metadata": {
        "id": "54Tf7J5I5GGd"
      },
      "source": [
        "import pandas as pd\n",
        "train = pd.read_csv('/gdrive/MyDrive/project/train.csv')\n",
        "test = pd.read_csv('/gdrive/MyDrive/project/test.csv')\n",
        "train"
      ],
      "execution_count": null,
      "outputs": []
    },
    {
      "cell_type": "code",
      "metadata": {
        "id": "SMFSuv5gotin"
      },
      "source": [
        "test.head()"
      ],
      "execution_count": null,
      "outputs": []
    },
    {
      "cell_type": "markdown",
      "metadata": {
        "id": "I1W8zR6GaUKP"
      },
      "source": [
        "\n",
        "* id :  고객의 고유 ID (Unique ID for the customer)\n",
        "\n",
        "* Gender : 고객의 성별 (Gender of the customer)\n",
        "\n",
        "* Age : 고객의 나이 (Age of the customer)\n",
        "\n",
        "* Driving_License : 0 - 운전면허가 없는 고객 (Customer does not have DL), 1 - 운전면하가 있는 고객 (Customer already has DL)\n",
        "\n",
        "* Region_Code : 고객 지역의 고유 코드 (Unique code for the region of the customer)\n",
        "\n",
        "* Previously_Insured : 자동차 보험 가입 여부, 1 - 이미 자동차 보험에 가입 한 고객 (Customer already has Vehicle Insurance) , 0 - 자동차 보험에 가입하지 않은 고객 (Customer doesn't have Vehicle Insurance)\n",
        "\n",
        "* Vehicle_Age : 차량 연식 (Age of the Vehicle) \n",
        "\n",
        "* Vehicle_Damage : 차량 데미지, 1 - 고객이 과거에 차량에 손상을 입힘. (Customer got his/her vehicle damaged in the past.) 0 - 고객이 과거에 차량에 손상시키지 않음. (Customer didn't get his/her vehicle damaged in the past.)\n",
        "\n",
        "* Annual_Premium : 고객이 연도에 보험료로 지불해야 하는 금액 (The amount customer needs to pay as premium in the year)\n",
        "\n",
        "* PolicySalesChannel : 고객에게 연락하는 채널을 위한 익명화 된 코드 (Anonymized Code for the channel of outreaching to the customer ie.) Different Agents, Over Mail, Over Phone, In Person, etc.\n",
        "\n",
        "* Vintage : 일수 (Number of Days), Customer has been associated with the company\n",
        "\n",
        "* Response : 응답, 1 - 자동차 보험에 관심 있음 (Customer is interested), 0 - 자동차 보험에 관심없음 (Customer is not interested)"
      ]
    },
    {
      "cell_type": "markdown",
      "metadata": {
        "id": "D8k5mKv6VqDl"
      },
      "source": [
        "2) 데이터를 이용한 가설 및 평가지표, 베이스라인 선택\n",
        "\n",
        "가설: Vehicle_Age(차량 연식) 와 Vehicle_Damage(차량 데미지)가 자동차 보험 관심에 영향을 줄 것이라고 생각됩니다.\n",
        "\n",
        "사용할 평가지표:\n",
        "* Accuracy: 모든 분류 건수 중에서 분류기가 몇개의 정답을 맞혔는가 (맞거나 틀리다고 정확히 분류했는가)\n",
        "* Recall: 맞다고 분류해야 하는 건수 중에서 분류기가 몇개나 제대로 분류했는가\n",
        "* Precision: 분류기가 맞다고 분류한 건수 중에서 실제로 맞는 건수가 몇개나 되는가\n",
        " \n",
        "\n",
        "* F1 score: Recall과 Precision의 균형값 (조화평균)\n",
        "\n",
        "\n"
      ]
    },
    {
      "cell_type": "code",
      "metadata": {
        "id": "Z_MenTDtQRUM"
      },
      "source": [
        "# train 데이터 확인, 결측치 확인\n",
        "print(train.info())\n",
        "print(train.isnull().sum())"
      ],
      "execution_count": null,
      "outputs": []
    },
    {
      "cell_type": "code",
      "metadata": {
        "id": "5lZlqjhcSyhe"
      },
      "source": [
        "# test 데이터 확인, 결측치 확인\n",
        "print(test.info())\n",
        "print(test.isnull().sum())"
      ],
      "execution_count": null,
      "outputs": []
    },
    {
      "cell_type": "markdown",
      "metadata": {
        "id": "ztEu62ilUIMc"
      },
      "source": [
        "train 데이터에는 381109개의 행이 있고 test 데이터에는 127037개의 행이 있습니다.\n",
        "결측치는 없습니다."
      ]
    },
    {
      "cell_type": "code",
      "metadata": {
        "id": "s_5SBp0nOW5_"
      },
      "source": [
        "# train 데이터 통계 요약\n",
        "train.describe()"
      ],
      "execution_count": null,
      "outputs": []
    },
    {
      "cell_type": "code",
      "metadata": {
        "id": "kJkWtRXjsTgL"
      },
      "source": [
        "target = 'Response'\n",
        "y_train = train[target]\n",
        "y_train.value_counts(normalize=True)"
      ],
      "execution_count": null,
      "outputs": []
    },
    {
      "cell_type": "code",
      "metadata": {
        "id": "_17Xp_WbEGIE"
      },
      "source": [
        "# 'Response' 클래스 비율\n",
        "import seaborn as sns\n",
        "sns.set_theme(style='whitegrid')\n",
        "sns.countplot(x=y_train)"
      ],
      "execution_count": null,
      "outputs": []
    },
    {
      "cell_type": "markdown",
      "metadata": {
        "id": "whFC3GEs5l-9"
      },
      "source": [
        "자동차 보험에 관심을 보이는 고객이 12%로 현저히 낮습니다.\n",
        "->클래스가 불균형"
      ]
    },
    {
      "cell_type": "code",
      "metadata": {
        "id": "1RlB4Tn51rtk"
      },
      "source": [
        "train.groupby(['Response','Vehicle_Age','Vehicle_Damage']).size()"
      ],
      "execution_count": null,
      "outputs": []
    },
    {
      "cell_type": "markdown",
      "metadata": {
        "id": "TKIhiu8n5R6y"
      },
      "source": [
        "자동차 보험에 관심을 보이는 고객의 차량은 대부분 1-2년 되었고 차량이 손상된 적이 있습니다."
      ]
    },
    {
      "cell_type": "code",
      "metadata": {
        "id": "Dnf67xdis5WS"
      },
      "source": [
        "# mode(): Return the highest frequency value in a Series.\n",
        "major = y_train.mode()[0]\n",
        "\n",
        "# 기준모델로 예측\n",
        "y_pred = [major] * len(y_train)"
      ],
      "execution_count": null,
      "outputs": []
    },
    {
      "cell_type": "code",
      "metadata": {
        "id": "7wcMQrNbs-BA"
      },
      "source": [
        "from sklearn.metrics import accuracy_score\n",
        "print(\"training accuracy: \", accuracy_score(y_train, y_pred))"
      ],
      "execution_count": null,
      "outputs": []
    },
    {
      "cell_type": "code",
      "metadata": {
        "id": "KzO1p6SnG5Qg"
      },
      "source": [
        "# 'Gender' 클래스 비율, 성별에 따른 자동차 보험 관심 여부\n",
        "import matplotlib.pyplot as plt\n",
        "plt.figure(figsize = (15,10))\n",
        "plt.subplots_adjust(left=0.5, bottom=0.5, right=0.9, top=0.9, wspace=0.7, hspace=0.5)\n",
        "plt.subplot(1,2,1)\n",
        "sns.countplot(train['Gender'],palette='Set2')\n",
        "plt.title(\"count of male and female\")\n",
        "plt.subplot(1,2,2)\n",
        "sns.countplot(train['Gender'], hue = train['Response'],palette=\"Set2\")\n",
        "plt.title(\"Response in Male and female category\")\n",
        "plt.show()"
      ],
      "execution_count": null,
      "outputs": []
    },
    {
      "cell_type": "code",
      "metadata": {
        "id": "7qRpxZ86M8-R"
      },
      "source": [
        "# 연령에 따른 자동차 보험 관심 여부\n",
        "plt.figure(figsize=(20,10))\n",
        "sns.countplot(x='Age',hue='Response',data=train)"
      ],
      "execution_count": null,
      "outputs": []
    },
    {
      "cell_type": "markdown",
      "metadata": {
        "id": "sOxAmYrfQuhE"
      },
      "source": [
        "20대는 자동차 보험에 관심이 없습니다. 아직 많은 경험이 없고 비싼 차량이 없기 때문이라고 생각합니다. 30세-55세 사이의 사람들이 관심을 가장 많이 갖고 있습니다."
      ]
    },
    {
      "cell_type": "code",
      "metadata": {
        "id": "Q7JPLj-FSN8X"
      },
      "source": [
        "# 'Age' 이상치 확인\n",
        "sns.boxplot(train['Age'])"
      ],
      "execution_count": null,
      "outputs": []
    },
    {
      "cell_type": "markdown",
      "metadata": {
        "id": "hyBOav9JTrZP"
      },
      "source": [
        "'Age'에 이상치가 없음을 알 수 있습니다."
      ]
    },
    {
      "cell_type": "code",
      "metadata": {
        "id": "U3QwDdh8T_7r"
      },
      "source": [
        "# 운전 면허 보유 여부에 따른 자동차 보험 관심 여부\n",
        "sns.countplot(train['Driving_License'],hue=train['Response'])"
      ],
      "execution_count": null,
      "outputs": []
    },
    {
      "cell_type": "code",
      "metadata": {
        "id": "KPKiFudyaCkp"
      },
      "source": [
        "# 자동차 보험 가입 여부에 따른 자동차 보험 관심 여부\n",
        "sns.countplot(x='Previously_Insured',hue='Response',data=train, palette='Accent')"
      ],
      "execution_count": null,
      "outputs": []
    },
    {
      "cell_type": "markdown",
      "metadata": {
        "id": "2C7RJp7o59pc"
      },
      "source": [
        "이미 자동차 보험에 가입한 고객은 자동차 보험에 관심이 없습니다. 아직 이전 보험 계약이 만료되지 않았기 때문이라고 추측할 수 있습니다."
      ]
    },
    {
      "cell_type": "code",
      "metadata": {
        "id": "lpoZRn8ta9qN"
      },
      "source": [
        "# 차량 연식에 따른 자동차 보험 관심 여부\n",
        "sns.countplot(x='Vehicle_Age',hue='Response',data=train, palette='Accent')"
      ],
      "execution_count": null,
      "outputs": []
    },
    {
      "cell_type": "markdown",
      "metadata": {
        "id": "r5jekXv-cyRI"
      },
      "source": [
        "차량 연식이 1-2년인 경우가 가장 자동차 보험에 관심을 보였고 차량 연식이 1년 이하인 경우가 가장 관심이 낮았습니다."
      ]
    },
    {
      "cell_type": "code",
      "metadata": {
        "id": "ZiFYE0lqz1QM"
      },
      "source": [
        "#Label Encoder\n",
        "train['Gender'] = train['Gender'].replace({'Male':1,'Female':0})\n",
        "train['Vehicle_Age'] = train['Vehicle_Age'].replace({'< 1 Year':0,'1-2 Year':1,'> 2 Years':2})\n",
        "train['Vehicle_Damage'] = train['Vehicle_Damage'].replace({'Yes':1,'No':0})\n",
        "\n",
        "test['Gender'] = test['Gender'].replace({'Male':1,'Female':0})\n",
        "test['Vehicle_Age'] = test['Vehicle_Age'].replace({'< 1 Year':0,'1-2 Year':1,'> 2 Years':2})\n",
        "test['Vehicle_Damage'] = test['Vehicle_Damage'].replace({'Yes':1,'No':0})"
      ],
      "execution_count": null,
      "outputs": []
    },
    {
      "cell_type": "markdown",
      "metadata": {
        "id": "ckATI7rZzpIL"
      },
      "source": [
        "Gender\n",
        "* 'Female' = 0\n",
        "* 'Male' = 1\n",
        "\n",
        "Vehicle Age\n",
        "* '<1 Year' = 0\n",
        "* '1–2 Year' = 1  \n",
        "* '>2 Year' = 2\n",
        "\n",
        "Vehicle Damage\n",
        "* 'No' = 0\n",
        "* 'Yes' = 1"
      ]
    },
    {
      "cell_type": "code",
      "metadata": {
        "id": "yYD_FIoAobB6"
      },
      "source": [
        "train.info()"
      ],
      "execution_count": null,
      "outputs": []
    },
    {
      "cell_type": "code",
      "metadata": {
        "id": "J3_7AkQENsN5"
      },
      "source": [
        "test.info()"
      ],
      "execution_count": null,
      "outputs": []
    },
    {
      "cell_type": "code",
      "metadata": {
        "id": "NE8MFRCEa9hS"
      },
      "source": [
        "plt.figure(figsize=(12,12))\n",
        "sns.heatmap(train.corr(),annot=True, linewidths=2, cmap='YlGnBu')"
      ],
      "execution_count": null,
      "outputs": []
    },
    {
      "cell_type": "markdown",
      "metadata": {
        "id": "Qz28288blrY_"
      },
      "source": [
        "* 자동차 보험 관심에 가장 영향을 미치는 요인은 양의 상관관계로 'Vehicle_Damage(차량 손상 정도)', 그 다음이 'Vehicle_Age(차량 연식)' 이고 음의 상관관계는 'Previously_Insured(자동차 보험 가입 여부)'이고 그 다음이 'Policy_Sales_Channel(고객에게 연락하는 채널 코드)'입니다. \n",
        "\n",
        "* 'Vintage'가 가장 영향을 적게 받습니다. 상관관계가 낮으므로 제거할 수 있습니다."
      ]
    },
    {
      "cell_type": "code",
      "metadata": {
        "id": "EbsC96BLhLMQ"
      },
      "source": [
        "#중복된 특성 확인\n",
        "duplicate=train[train.duplicated()]\n",
        "print(duplicate)"
      ],
      "execution_count": null,
      "outputs": []
    },
    {
      "cell_type": "markdown",
      "metadata": {
        "id": "fWy-olTFCAfN"
      },
      "source": [
        "중복된 특성이 없는 것으로 확인됩니다."
      ]
    },
    {
      "cell_type": "code",
      "metadata": {
        "id": "VXtCU3GPB7ud"
      },
      "source": [
        "from sklearn.model_selection import train_test_split\n",
        "from sklearn.tree import DecisionTreeClassifier\n",
        "from sklearn.metrics import plot_confusion_matrix, classification_report\n",
        "from sklearn.ensemble import RandomForestClassifier\n",
        "from sklearn.metrics import accuracy_score, precision_score, recall_score, f1_score, roc_auc_score, classification_report\n",
        "from xgboost import XGBClassifier"
      ],
      "execution_count": null,
      "outputs": []
    },
    {
      "cell_type": "code",
      "metadata": {
        "id": "JubV3byEEtiI"
      },
      "source": [
        "# 학습에 기여하지 않을 id 열 삭제\n",
        "train = train.drop(['id', 'Vintage'], axis = 1)"
      ],
      "execution_count": null,
      "outputs": []
    },
    {
      "cell_type": "code",
      "metadata": {
        "id": "227tbtllFNye"
      },
      "source": [
        "X = train[train.columns[:-1]]\n",
        "y = train[train.columns[-1]]"
      ],
      "execution_count": null,
      "outputs": []
    },
    {
      "cell_type": "code",
      "metadata": {
        "id": "QrXNbCDcHh9P"
      },
      "source": [
        "X_train, X_test, y_train, y_test = train_test_split(X, y, test_size = 0.20, random_state = 30)"
      ],
      "execution_count": null,
      "outputs": []
    },
    {
      "cell_type": "code",
      "metadata": {
        "id": "-eYbKO2uL74L"
      },
      "source": [
        "RF_C= RandomForestClassifier(n_estimators = 30, \n",
        "                           max_depth=7,\n",
        "                           n_jobs=-1,\n",
        "                           class_weight='balanced', \n",
        "                           random_state=2)\n",
        "RF_C.fit(X_train,y_train)\n",
        "y_pred = RF_C.predict(X_test)\n",
        "\n",
        "print(roc_auc_score(y_pred,y_test))"
      ],
      "execution_count": null,
      "outputs": []
    },
    {
      "cell_type": "code",
      "metadata": {
        "id": "eBY9goUW7Feo"
      },
      "source": [
        "print(classification_report(y_pred,y_test))"
      ],
      "execution_count": null,
      "outputs": []
    },
    {
      "cell_type": "markdown",
      "metadata": {
        "id": "IdDXGMKo9XNH"
      },
      "source": [
        "* accuracy: 정확도. 전체 학습데이터의 개수에서 각 클래스에서 자신의 클래스를 정확하게 맞춘 개수의 비율.\n",
        "\n",
        "* macro arv: 단순평균\n",
        "\n",
        "* weighted arv: 각 클래스에 속하는 표본의 갯수로 가중평균\n"
      ]
    },
    {
      "cell_type": "code",
      "metadata": {
        "id": "nT2hZw4oS79L"
      },
      "source": [
        "boosting=XGBClassifier(n_estimators = 1000, max_depth = 10, learning_rate = 0.2, n_jobs = -1 )\n",
        "XGB = boosting.fit(X_train, y_train)\n",
        "y_predict = XGB.predict(X_test)\n",
        "xgb_probability = XGB.predict_proba(X_test)[:,1]\n",
        "early_stopping_rounds = 50\n",
        "\n",
        "acc_xgb=accuracy_score(y_test,y_predict)\n",
        "recall_xgb=recall_score(y_test,y_predict)\n",
        "precision_xgb=precision_score(y_test,y_predict)\n",
        "f1score_xgb=f1_score(y_test,y_predict)\n",
        "\n",
        "print(roc_auc_score(y_pred,y_test))"
      ],
      "execution_count": null,
      "outputs": []
    },
    {
      "cell_type": "code",
      "metadata": {
        "id": "OeIU9LxL-mIy"
      },
      "source": [
        "print(classification_report(y_predict,y_test))"
      ],
      "execution_count": null,
      "outputs": []
    },
    {
      "cell_type": "code",
      "metadata": {
        "id": "cSlH1u2eTO_v"
      },
      "source": [
        "import matplotlib.pyplot as plt\n",
        "from pdpbox.pdp import pdp_isolate, pdp_plot\n",
        "\n",
        "isolated = pdp_isolate(\n",
        "    model = boosting,\n",
        "    dataset = X_test, \n",
        "    model_features=X_test.columns, \n",
        "    feature = 'Vehicle_Damage',\n",
        "    grid_type='percentile', # default='percentile', or 'equal'\n",
        "    num_grid_points = 10 # default=10\n",
        ")\n",
        "pdp_plot(isolated, feature_name = feature);"
      ],
      "execution_count": null,
      "outputs": []
    },
    {
      "cell_type": "markdown",
      "metadata": {
        "id": "1vITv0CWYQ1R"
      },
      "source": [
        "차량 손상이 있을 때(1) 타겟변수에 대한 확률이 올라갑니다."
      ]
    },
    {
      "cell_type": "code",
      "metadata": {
        "id": "oer2QpkOYQou"
      },
      "source": [
        "isolated = pdp_isolate(\n",
        "    model = boosting,\n",
        "    dataset = X_test, \n",
        "    model_features=X_test.columns, \n",
        "    feature = 'Vehicle_Age',\n",
        "    grid_type='percentile', # default='percentile', or 'equal'\n",
        "    num_grid_points = 10 # default=10\n",
        ")\n",
        "pdp_plot(isolated, feature_name = feature);"
      ],
      "execution_count": null,
      "outputs": []
    },
    {
      "cell_type": "markdown",
      "metadata": {
        "id": "fXmhfiSKYuOY"
      },
      "source": [
        "Vehicle_Age가 2년 이상일 때 차 보험에 대한 긍정적인 의사 확률이 높아지는 것을 알 수 있습니다."
      ]
    },
    {
      "cell_type": "code",
      "metadata": {
        "id": "2VxFGTwdTrVd"
      },
      "source": [
        "from pdpbox.pdp import pdp_interact, pdp_interact_plot\n",
        "features = ['Vehicle_Damage', 'Vehicle_Age']\n",
        "\n",
        "interaction = pdp_interact(\n",
        "    model=boosting, \n",
        "    dataset=X_test,\n",
        "    model_features=X_test.columns, \n",
        "    features=features\n",
        ")\n",
        "pdp_interact_plot(interaction, plot_type='grid', \n",
        "                  feature_names=features);"
      ],
      "execution_count": null,
      "outputs": []
    },
    {
      "cell_type": "code",
      "metadata": {
        "id": "k-7q_dRUZXIu"
      },
      "source": [
        ""
      ],
      "execution_count": null,
      "outputs": []
    },
    {
      "cell_type": "markdown",
      "metadata": {
        "id": "VIMWCe1TcqdW"
      },
      "source": [
        "두 가지 특성을 함께 봤을 때에는 Vehicle_Age의 정도차이는 없고, Vehicle_Damage의 차이가 타겟변수에 영향을 미친다는 것을 확인할 수 있습니다. 연식이 오래되지 않은 차 이면서 차량 손상이 있는 경우 가장 영향을 많이 미칩니다."
      ]
    },
    {
      "cell_type": "code",
      "metadata": {
        "id": "4SuZ77u0mSYq"
      },
      "source": [
        "import shap\n",
        "shap_values = explainer.shap_values(X_test.iloc[:100])\n",
        "shap.force_plot(explainer.expected_value, shap_values, X_test.iloc[:100])\n",
        "shap.initjs()\n",
        "shap_values = explainer.shap_values(X_test.iloc[:300])\n",
        "shap.summary_plot(shap_values, X_train.iloc[:300])"
      ],
      "execution_count": null,
      "outputs": []
    },
    {
      "cell_type": "code",
      "metadata": {
        "id": "fLe2FfWTmwkM"
      },
      "source": [
        "shap.summary_plot(shap_values, X_train.iloc[:300], plot_type=\"violin\")"
      ],
      "execution_count": null,
      "outputs": []
    },
    {
      "cell_type": "code",
      "metadata": {
        "id": "GlbA8wVbnpsp"
      },
      "source": [
        "shap.summary_plot(shap_values, X_train.iloc[:300], plot_type=\"bar\")"
      ],
      "execution_count": null,
      "outputs": []
    },
    {
      "cell_type": "code",
      "metadata": {
        "id": "ij61HINnnuzB"
      },
      "source": [
        ""
      ],
      "execution_count": null,
      "outputs": []
    }
  ]
}