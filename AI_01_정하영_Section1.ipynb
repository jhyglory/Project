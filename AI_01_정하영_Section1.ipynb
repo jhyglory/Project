{
  "nbformat": 4,
  "nbformat_minor": 0,
  "metadata": {
    "colab": {
      "name": "AI_01_정하영_Section1.ipynb",
      "private_outputs": true,
      "provenance": [],
      "include_colab_link": true
    },
    "kernelspec": {
      "name": "python3",
      "display_name": "Python 3"
    }
  },
  "cells": [
    {
      "cell_type": "markdown",
      "metadata": {
        "id": "view-in-github",
        "colab_type": "text"
      },
      "source": [
        "<a href=\"https://colab.research.google.com/github/jhyglory/Section1/blob/main/AI_01_%E1%84%8C%E1%85%A5%E1%86%BC%E1%84%92%E1%85%A1%E1%84%8B%E1%85%A7%E1%86%BC_Section1.ipynb\" target=\"_parent\"><img src=\"https://colab.research.google.com/assets/colab-badge.svg\" alt=\"Open In Colab\"/></a>"
      ]
    },
    {
      "cell_type": "code",
      "metadata": {
        "id": "AjEq8GR5E1dQ"
      },
      "source": [
        "import pandas as pd\n",
        "from google.colab import files\n",
        "import datetime\n",
        "import matplotlib.pyplot as plt\n",
        "import seaborn as sns\n",
        "\n",
        "uploaded = files.upload()\n"
      ],
      "execution_count": null,
      "outputs": []
    },
    {
      "cell_type": "markdown",
      "metadata": {
        "id": "d6B-EIdEE998"
      },
      "source": [
        "# 새 섹션"
      ]
    },
    {
      "cell_type": "code",
      "metadata": {
        "id": "lg661Sx0FBCk"
      },
      "source": [
        "# 데이터 불러오기\n",
        "df = pd.read_csv('vgames2.csv')\n",
        "df.head()"
      ],
      "execution_count": null,
      "outputs": []
    },
    {
      "cell_type": "code",
      "metadata": {
        "id": "fAfDrPpKH520"
      },
      "source": [
        "#Unnamed 삭제\n",
        "df2 = df.drop('Unnamed: 0', axis=1) \n",
        "df2.head()"
      ],
      "execution_count": null,
      "outputs": []
    },
    {
      "cell_type": "code",
      "metadata": {
        "id": "kIi_h_xDeQtu"
      },
      "source": [
        "# 결측치와 데이터 타입 확인\n",
        "df2.info()"
      ],
      "execution_count": null,
      "outputs": []
    },
    {
      "cell_type": "code",
      "metadata": {
        "id": "y8MBY0RIecRB"
      },
      "source": [
        "# 결측치 삭제\n",
        "df3 = df2.dropna()\n",
        "df3.info()"
      ],
      "execution_count": null,
      "outputs": []
    },
    {
      "cell_type": "code",
      "metadata": {
        "id": "9W2G9YQPc5fZ"
      },
      "source": [
        "# 년도 오름차순 정렬 \n",
        "df3.sort_values('Year')"
      ],
      "execution_count": null,
      "outputs": []
    },
    {
      "cell_type": "code",
      "metadata": {
        "id": "gkxisokbgQTx"
      },
      "source": [
        "# 연도 정상화, 실수 -> 정수로 바꾸기\n",
        "change = {0:2000, 1:2001, 2:2002, 3:2003, 4:2004, 5:2005, 6:2006, 7:2007, 8:2008, \n",
        "          9:2009,  10:2010, 11:2011, 12:2012, 13:2013, 14:2014, 15:2015, 16:2016, \n",
        "          86:1986, 94:1994, 95:1995, 96:1996, 97:1997, 98:1998}\n",
        "\n",
        "df4 = df3.replace({'Year' : change})\n",
        "df4['Year'] = pd.to_datetime(df4.Year, format='%Y').dt.year\n",
        "df4['Year'].unique()"
      ],
      "execution_count": null,
      "outputs": []
    },
    {
      "cell_type": "code",
      "metadata": {
        "id": "hRWYrCUW1e0W"
      },
      "source": [
        "# 매출액에 있는 M,K 없애기, 문자열-> 실수로 바꾸기\n",
        "df4['NA_Sales'] = df4['NA_Sales'].str.replace('M','')\n",
        "df4['EU_Sales'] = df4['EU_Sales'].str.replace('M','')\n",
        "df4['JP_Sales'] = df4['JP_Sales'].str.replace('M','')\n",
        "df4['Other_Sales'] = df4['Other_Sales'].str.replace('M','')\n",
        "df4['NA_Sales'] = df4['NA_Sales'].apply(lambda x: float(x[:-1])*0.001 if x.endswith('K') else float(x))\n",
        "df4['EU_Sales'] = df4['EU_Sales'].apply(lambda x: float(x[:-1])*0.001 if x.endswith('K') else float(x))\n",
        "df4['JP_Sales'] = df4['JP_Sales'].apply(lambda x: float(x[:-1])*0.001 if x.endswith('K') else float(x))\n",
        "df4['Other_Sales'] = df4['Other_Sales'].apply(lambda x: float(x[:-1])*0.001 if x.endswith('K') else float(x))\n",
        "df4.info()"
      ],
      "execution_count": null,
      "outputs": []
    },
    {
      "cell_type": "code",
      "metadata": {
        "id": "t0n4G5gCB7sj"
      },
      "source": [
        "df4.head(30)"
      ],
      "execution_count": null,
      "outputs": []
    },
    {
      "cell_type": "markdown",
      "metadata": {
        "id": "6AgL3FrPZg-w"
      },
      "source": [
        "\n",
        "\n",
        "---\n",
        "# 1. 지역에 따라서 선호하는 게임 장르가 다를까 ?\n",
        "   \n",
        "\n",
        "*    장르별로 게임의 개수가 다르기 때문에 장르별로 게임의 매출액을 다 더한 값을 개수만큼 나눈 평균을 구해야 한다고 판단하였다.\n",
        "*   개수가 같다고 가정해도 특정 장르에서 특정 게임만 매출액이 월등히 높아 그 장르의 총 매출액이 높은 경우 그 장르 자체를 선호한다고 보기에는 무리가 있다.\n",
        "\n"
      ]
    },
    {
      "cell_type": "code",
      "metadata": {
        "id": "2aT8cakA-QLr"
      },
      "source": [
        "#장르별 매출액 평균 비교\n",
        "gb_NA_Sales = df4.groupby('Genre')['NA_Sales'].mean()\n",
        "NA_bar = gb_NA_Sales.sort_values(ascending=False)\n",
        "NA_bar.plot(kind='bar',figsize = (15,5), color = '#bee5d3')"
      ],
      "execution_count": null,
      "outputs": []
    },
    {
      "cell_type": "markdown",
      "metadata": {
        "id": "laBcPlSC_DIA"
      },
      "source": [
        "북미의 매출액 평균은 Platform -> Shooter -> Racing 순으로 높다."
      ]
    },
    {
      "cell_type": "markdown",
      "metadata": {
        "id": "OntXVxF9_bLF"
      },
      "source": [
        "\n",
        "\n",
        "---\n",
        "\n"
      ]
    },
    {
      "cell_type": "code",
      "metadata": {
        "id": "3-fmYVE7-P7_"
      },
      "source": [
        "gb_EU_Sales = df4.groupby('Genre')['EU_Sales'].mean()\n",
        "EU_bar = gb_EU_Sales.sort_values(ascending=False)\n",
        "EU_bar.plot(kind='bar',figsize = (15,5), color = '#d6b0b1')"
      ],
      "execution_count": null,
      "outputs": []
    },
    {
      "cell_type": "markdown",
      "metadata": {
        "id": "LzT97xcp_Zs1"
      },
      "source": [
        "유럽의 매출액 평균은 Shooter -> Platform -> Racing 순으로 높다.\n",
        "\n",
        "\n",
        "\n",
        "\n",
        "\n",
        "---\n",
        "\n"
      ]
    },
    {
      "cell_type": "code",
      "metadata": {
        "id": "9jsaMSWV-Mzw"
      },
      "source": [
        "gb_JP_Sales = df4.groupby('Genre')['JP_Sales'].mean()\n",
        "gb_bar = gb_JP_Sales.sort_values(ascending=False)\n",
        "gb_bar.plot(kind='bar',figsize = (15,5), color = '#8b5e83')"
      ],
      "execution_count": null,
      "outputs": []
    },
    {
      "cell_type": "markdown",
      "metadata": {
        "id": "dqTrGsBp_uAH"
      },
      "source": [
        "일본의 매출액 평균은 Role-playing -> Platform -> Fighting 순으로 높다."
      ]
    },
    {
      "cell_type": "markdown",
      "metadata": {
        "id": "Xx9Lzl89AHPl"
      },
      "source": [
        "\n",
        "\n",
        "---\n",
        "\n"
      ]
    },
    {
      "cell_type": "code",
      "metadata": {
        "id": "bokdoepouPD9"
      },
      "source": [
        "gb_OtherSales = df4.groupby('Genre')['Other_Sales'].mean()\n",
        "gb_bar = gb_OtherSales.sort_values(ascending=False)\n",
        "gb_bar.plot(kind='bar',figsize = (15,5), color = '#487e95')"
      ],
      "execution_count": null,
      "outputs": []
    },
    {
      "cell_type": "markdown",
      "metadata": {
        "id": "wZfOmTErAAlr"
      },
      "source": [
        "기타지역의 매출액 평균은 Shooter -> Racing -> Platform 순으로 높다."
      ]
    },
    {
      "cell_type": "markdown",
      "metadata": {
        "id": "FfLOh879AIsF"
      },
      "source": [
        "\n",
        "\n",
        "---\n",
        "\n"
      ]
    },
    {
      "cell_type": "code",
      "metadata": {
        "id": "qcp8P5n0Ybp7"
      },
      "source": [
        "# 모든 지역과 모든 장르의 매출액 평균 비교\n",
        "Sales = df4.groupby('Genre')['NA_Sales','EU_Sales','JP_Sales','Other_Sales'].mean()\n",
        "Sales.plot(kind='bar',figsize = (21,7))"
      ],
      "execution_count": null,
      "outputs": []
    },
    {
      "cell_type": "code",
      "metadata": {
        "id": "fBFxzlL7vXpN"
      },
      "source": [
        ""
      ],
      "execution_count": null,
      "outputs": []
    }
  ]
}